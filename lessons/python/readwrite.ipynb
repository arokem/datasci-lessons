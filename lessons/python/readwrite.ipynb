{
 "metadata": {
  "name": ""
 },
 "nbformat": 3,
 "nbformat_minor": 0,
 "worksheets": [
  {
   "cells": [
    {
     "cell_type": "markdown",
     "metadata": {},
     "source": [
      "# Reading and Writing Files with Python\n",
      "\n",
      "### Justin Kitzes  "
     ]
    },
    {
     "cell_type": "markdown",
     "metadata": {},
     "source": [
      "## 1. Introduction\n",
      "\n",
      "The core Python libraries, along with external packages such as `numpy`, `matplotlib`, `pandas`, and others,\n",
      "provide both low-level and high-level methods for extracting data from files, processing this data, and\n",
      "saving results back to disk.\n",
      "\n",
      "In this lesson, we will read text-based data files in two ways. First, we will use Python's low level\n",
      "file reader and writer to examine the contents of a relatively unstructured text file, perform some analysis,\n",
      "and write our results back out to another text file. Second, we will use high-level helper functions\n",
      "from `matplotlib` to easily read, modify, and write back out a csv file (csv stands for comma-separated\n",
      "values, and is the kind of data that you might have in a spreadsheet).\n",
      "\n",
      "In general, you will want to use easy, high-level approaches whenever possible (they will save you time\n",
      "and probably errors) and switch over to the low-level methods when your data have an unusual structure\n",
      "that the high-level readers cannot deal with easily. There are other high-level file handlers in `numpy`,\n",
      "such as `loadtxt` and `savetxt`, and `pandas`, such as `from_csv` and `to_csv`, that are also useful,\n",
      "and we encourage you to look into them."
     ]
    },
    {
     "cell_type": "markdown",
     "metadata": {},
     "source": [
      "## 2. Reading and writing text files line-by-line\n",
      "\n",
      "The most basic way to get data into Python is to open a text file and read it, line by line, and examine\n",
      "each line in turn to determine what to do with it (ie, save it, skip it, extract some information, etc.).\n",
      "\n",
      "This method will work on any type of file, including tables in csv format. However, this method really becomes\n",
      "useful when you find yourself with a \"unique\" type of data record, such as the one in the sample file\n",
      "shown below."
     ]
    },
    {
     "cell_type": "code",
     "collapsed": false,
     "input": [
      "# Load numpy once again, and the plotting library for good measure\n",
      "import numpy as np\n",
      "%pylab inline"
     ],
     "language": "python",
     "metadata": {},
     "outputs": []
    },
    {
     "cell_type": "code",
     "collapsed": false,
     "input": [
      "# We have a data file with records of animal sightings in it\n",
      "!cat sightings_recs_sm.txt"
     ],
     "language": "python",
     "metadata": {},
     "outputs": []
    },
    {
     "cell_type": "code",
     "collapsed": true,
     "input": [
      "# Let's read the file line by line, and print each line back out (watch for newline characters)"
     ],
     "language": "python",
     "metadata": {},
     "outputs": []
    },
    {
     "cell_type": "code",
     "collapsed": true,
     "input": [
      "# Let's only print out the lines that have counts"
     ],
     "language": "python",
     "metadata": {},
     "outputs": []
    },
    {
     "cell_type": "code",
     "collapsed": true,
     "input": [
      "# Instead of printing the count, let's get the count and add it to a total\n",
      "#a = 'Count: 5'\n",
      "#print a.split(' ')[1]"
     ],
     "language": "python",
     "metadata": {},
     "outputs": []
    },
    {
     "cell_type": "code",
     "collapsed": true,
     "input": [
      "# Finally, let's write out our answer to a new file"
     ],
     "language": "python",
     "metadata": {},
     "outputs": []
    },
    {
     "cell_type": "code",
     "collapsed": false,
     "input": [
      "!cat sightings_recs_result.txt"
     ],
     "language": "python",
     "metadata": {},
     "outputs": []
    },
    {
     "cell_type": "markdown",
     "metadata": {},
     "source": [
      "### EXERCISE 1 - Reading and writing line by line\n",
      "\n",
      "1. Write code that will figure out the number of records in which the animal Owl appears (not the total\n",
      "count of owls, just the number of times the word 'Owl' appears after the word 'Animal:' on a line).\n",
      "1. Write a results file called 'sightings_recs_owls.txt' that has, on the first line, the string\n",
      "'Counted by [your name]' and, on the second line, the string 'Total owl records:' followed by the number\n",
      "of records mentioing Owl. HINT: To write a new line in a file, use the special character '\\n'.\n",
      "2. Run your code on the much larger file 'sightings_recs_lg.txt'. How many records are there for owls?\n",
      "\n",
      "__Bonus__\n",
      "\n",
      "1. Modify your code to calculate the total number of owls seen in this data file (the sum of the counts within\n",
      "all records that have Owl as the animal). HINT: Since the animal name comes before the count, one way to\n",
      "do this is to create a new variable called `animal`, and update its value each time the for loop encounters\n",
      "a line that starts with 'Animal:'. Then, when the 'Count:' line is encountered, you should only add the count to\n",
      "your running total if the current value of the variable `animal` is Owl. Watch out for the new line character\n",
      "`\\n` at the end of strings!\n",
      "2. Run your code on the much larger file 'sightings_recs_lg.txt'. How many total owls were seen?"
     ]
    },
    {
     "cell_type": "code",
     "collapsed": true,
     "input": [],
     "language": "python",
     "metadata": {},
     "outputs": []
    },
    {
     "cell_type": "code",
     "collapsed": true,
     "input": [],
     "language": "python",
     "metadata": {},
     "outputs": []
    },
    {
     "cell_type": "markdown",
     "metadata": {},
     "source": [
      "## 3. Reading and writing tabular data with helper functions\n",
      "\n",
      "The process of reading and writing files becomes MUCH easier if your data is nicely structured, such as if\n",
      "it is formatted as a csv file (like a spreadsheet). In this case, there are a number of high-level helper\n",
      "functions that will help you to read, manipulate, and write this data. We'll focus on a set of helper\n",
      "functions found in `matplotlib.mlab`.\n",
      "\n",
      "There are lots of functions in `mlab`, but the ones that we want are listed under \"record array helper\n",
      "functions\" on this page: http://matplotlib.org/api/mlab_api.html. The most useful ones are\n",
      "\n",
      "* rec2csv() - store record array in CSV file\n",
      "* csv2rec() - import record array from CSV file with type inspection\n",
      "* rec_append_fields() - adds field(s)/array(s) to record array\n",
      "* rec_drop_fields() - drop fields from record array\n",
      "\n",
      "These functions will help us work with a special type of `numpy` array known as a `recarray`, short for\n",
      "record array. As you may remember, every element in a numpy array must be of the same data type (such as\n",
      "an int, float, string, etc.). In a recarray, the elements are a complex data type called a record that\n",
      "contains multiple fields, sort of like a simple database."
     ]
    },
    {
     "cell_type": "code",
     "collapsed": true,
     "input": [
      "# Import matplotlib.mlab\n",
      "import matplotlib.mlab as ml"
     ],
     "language": "python",
     "metadata": {},
     "outputs": []
    },
    {
     "cell_type": "code",
     "collapsed": false,
     "input": [
      "# Our field tech was much nicer this time, and gave us a csv with the sightings in it\n",
      "!cat sightings_tab_sm.csv"
     ],
     "language": "python",
     "metadata": {},
     "outputs": []
    },
    {
     "cell_type": "code",
     "collapsed": true,
     "input": [
      "# We can load this csv into a numpy recarray in just one step"
     ],
     "language": "python",
     "metadata": {},
     "outputs": []
    },
    {
     "cell_type": "code",
     "collapsed": true,
     "input": [
      "# A recarray is a special kind of numpy array\n",
      "# It is one dimensional, but each element is a record that has many pieces of data in it"
     ],
     "language": "python",
     "metadata": {},
     "outputs": []
    },
    {
     "cell_type": "code",
     "collapsed": true,
     "input": [
      "# We can access \"rows\" and \"columns\" in a recarray easily\n",
      "# \"Rows\" are actually the indexes of the records\n",
      "# \"Columns\" can be accessed by the name of the field"
     ],
     "language": "python",
     "metadata": {},
     "outputs": []
    },
    {
     "cell_type": "code",
     "collapsed": true,
     "input": [
      "# We can access values in the records by looping over each record individually"
     ],
     "language": "python",
     "metadata": {},
     "outputs": []
    },
    {
     "cell_type": "code",
     "collapsed": true,
     "input": [
      "# Or by using boolean indexing"
     ],
     "language": "python",
     "metadata": {},
     "outputs": []
    },
    {
     "cell_type": "code",
     "collapsed": true,
     "input": [
      "# Let's make a new table (also a recarray) that drops the date and time cols\n",
      "# Also, let's add a new col called 'group' that is True if there were more than 4 animals counted"
     ],
     "language": "python",
     "metadata": {},
     "outputs": []
    },
    {
     "cell_type": "code",
     "collapsed": true,
     "input": [
      "# Finally, let's save our new recarray as a csv file"
     ],
     "language": "python",
     "metadata": {},
     "outputs": []
    },
    {
     "cell_type": "code",
     "collapsed": false,
     "input": [
      "# It worked!\n",
      "!cat sightings_tab_results.csv"
     ],
     "language": "python",
     "metadata": {},
     "outputs": []
    },
    {
     "cell_type": "markdown",
     "metadata": {},
     "source": [
      "### EXERCISE 2 - Reading and writing using recarrays\n",
      "\n",
      "1. Create a variable called `focusanimal` that is equal to Owl. Write code that reads a csv file of\n",
      "sightings, loops through the records, and counts the mean number of the focus animal seen per record.\n",
      "HINT: You'll want to use two counter variables, `totalrecs` and `totalcount`, to track the number of records\n",
      "mentioning Owl and the total number of owls seen. Print out the answer for the file `sightings_tab_sm.csv`\n",
      "and make sure that it's correct.\n",
      "1. Repeat task #1 above, but using boolean indexing instead of a for loop.\n",
      "\n",
      "__Bonus__\n",
      "\n",
      "1. Starting with the file `sightings_tab_sm.csv`, write code that adds a column called 'taxa' that contains\n",
      "the word 'bird' if the animal is an Owl or a Ptarmigan (the two birds in this data set), and the word\n",
      "'mammal' otherwise. Save this csv file. HINT: You'll probably need to use a for loop, with an if statement\n",
      "inside of it, to view each record and to get and store the appropriate value in a `taxalist`. You can then\n",
      "append this `taxalist` to the table."
     ]
    },
    {
     "cell_type": "code",
     "collapsed": true,
     "input": [],
     "language": "python",
     "metadata": {},
     "outputs": []
    },
    {
     "cell_type": "code",
     "collapsed": true,
     "input": [],
     "language": "python",
     "metadata": {},
     "outputs": []
    },
    {
     "cell_type": "code",
     "collapsed": true,
     "input": [],
     "language": "python",
     "metadata": {},
     "outputs": []
    }
   ],
   "metadata": {}
  }
 ]
}