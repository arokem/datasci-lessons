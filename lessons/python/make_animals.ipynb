{
 "metadata": {
  "name": ""
 },
 "nbformat": 3,
 "nbformat_minor": 0,
 "worksheets": [
  {
   "cells": [
    {
     "cell_type": "code",
     "collapsed": true,
     "input": [
      "animals = ('Moose', 'Elk', 'Fox', 'Owl', 'Wolf', 'Muskox', 'Ptarmigan', 'Grizzly', 'Wolverine')"
     ],
     "language": "python",
     "metadata": {},
     "outputs": []
    },
    {
     "cell_type": "code",
     "collapsed": true,
     "input": [
      "import datetime as dt\n",
      "import random"
     ],
     "language": "python",
     "metadata": {},
     "outputs": []
    },
    {
     "cell_type": "code",
     "collapsed": true,
     "input": [
      "def make_animals(filename, lines=100):\n",
      "    date = dt.date(2011, 4, 22)\n",
      "    one_day = dt.timedelta(days=1)\n",
      "\n",
      "    f = open(filename, 'w')\n",
      "\n",
      "    f.write('Date,Time,Animal,Count\\n')\n",
      "    for _ in xrange(lines):\n",
      "        animal = random.choice(animals)\n",
      "        hour = random.randint(0, 23)\n",
      "        minute = random.randint(0, 59)\n",
      "        number = random.randint(1, 42)\n",
      "    \n",
      "        date_str = '{}-{:02d}-{:02d}'.format(date.year, date.month, date.day)\n",
      "    \n",
      "        time_str = '{:02d}:{:02d}'.format(hour, minute)\n",
      "    \n",
      "        line = '{},{},{},{}\\n'.format(date_str, time_str, animal, number)\n",
      "    \n",
      "        f.write(line)\n",
      "    \n",
      "        if random.choice((True, False)):\n",
      "            date = date + one_day\n",
      "    \n",
      "    f.close()"
     ],
     "language": "python",
     "metadata": {},
     "outputs": []
    },
    {
     "cell_type": "code",
     "collapsed": true,
     "input": [
      "def make_animals_unstruct(filename, lines=100):\n",
      "    date = dt.date(2011, 4, 22)\n",
      "    one_day = dt.timedelta(days=1)\n",
      "\n",
      "    f = open(filename, 'w')\n",
      "\n",
      "    for i in range(lines):\n",
      "        animal = random.choice(animals)\n",
      "        hour = random.randint(0, 23)\n",
      "        minute = random.randint(0, 59)\n",
      "        number = random.randint(1, 42)\n",
      "    \n",
      "        date_str = '{}-{:02d}-{:02d}'.format(date.year, date.month, date.day)\n",
      "    \n",
      "        time_str = '{:02d}:{:02d}'.format(hour, minute)\n",
      "    \n",
      "        line = '{} {{\\nDate: {}\\nTime: {}\\nAnimal: {}\\nCount: {}\\n}}\\n\\n'.format(i, date_str, time_str, animal, number)\n",
      "    \n",
      "        f.write(line)\n",
      "    \n",
      "        if random.choice((True, False)):\n",
      "            date = date + one_day\n",
      "    \n",
      "    f.close()    "
     ],
     "language": "python",
     "metadata": {},
     "outputs": []
    },
    {
     "cell_type": "code",
     "collapsed": false,
     "input": [
      "make_animals('sightings_tab_sm.csv', 5)\n",
      "#make_animals_unstruct('sightings_recs_sm.txt', 3)"
     ],
     "language": "python",
     "metadata": {},
     "outputs": []
    },
    {
     "cell_type": "code",
     "collapsed": true,
     "input": [
      "make_animals('sightings_tab_lg.csv', 200)\n",
      "make_animals_unstruct('sightings_recs_lg.txt', 200)"
     ],
     "language": "python",
     "metadata": {},
     "outputs": []
    }
   ],
   "metadata": {}
  }
 ]
}