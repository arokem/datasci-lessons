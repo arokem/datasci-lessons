{
 "metadata": {
  "name": ""
 },
 "nbformat": 3,
 "nbformat_minor": 0,
 "worksheets": [
  {
   "cells": [
    {
     "cell_type": "markdown",
     "metadata": {},
     "source": [
      "# Introduction to Numpy\n",
      "\n",
      "### Justin Kitzes  \n",
      "\n",
      "Thanks to: Katy Huff, Matt Davis, Paul Ivanov, Matthew Terry, and the UC Berkeley Python Bootcamp"
     ]
    },
    {
     "cell_type": "markdown",
     "metadata": {},
     "source": [
      "## 1. Getting Started"
     ]
    },
    {
     "cell_type": "markdown",
     "metadata": {},
     "source": [
      "### 1.1 What is NumPy ?\n",
      "\n",
      "NumPy is a Python package that allows you to use a powerful data type known as an 'ndarray'\n",
      "(for n-dimensional array). Numerical operations on ndarrays are often more efficient than\n",
      "those on lists or other native Python data structures. NumPy also includes many helpful\n",
      "shortcuts and functions for operating on these arrays.\n",
      "\n",
      "The official NumPy documentation is at http://docs.scipy.org/doc/numpy/reference/"
     ]
    },
    {
     "cell_type": "markdown",
     "metadata": {},
     "source": [
      "### 1.2 Importing numpy\n",
      "\n",
      "NumPy must be imported to be used - it's common to import the package 'numpy' with\n",
      "the short name 'np' to save typing later on."
     ]
    },
    {
     "cell_type": "code",
     "collapsed": true,
     "input": [
      "import numpy as np"
     ],
     "language": "python",
     "metadata": {},
     "outputs": []
    },
    {
     "cell_type": "markdown",
     "metadata": {},
     "source": [
      "## 2. Numpy Arrays\n",
      "\n",
      "Numpy allows you to use a new data type called an ndarray. Arrays mostly act like other\n",
      "data collections, like lists or tuples, but with a few key differences described\n",
      "below."
     ]
    },
    {
     "cell_type": "markdown",
     "metadata": {},
     "source": [
      "### 2.1 Creating arrays\n",
      "\n",
      "Arrays are commonly created from existing data collections (like lists), by\n",
      "creating an array full of ones or zeros, or by creating a sequence."
     ]
    },
    {
     "cell_type": "code",
     "collapsed": false,
     "input": [
      "# Array from a list - also works with tuples\n",
      "list1 = [2, 3, 4]\n",
      "list2 = [5, 6, 7]\n",
      "\n",
      "np.array(list1)\n",
      "np.array([list1, list2])"
     ],
     "language": "python",
     "metadata": {},
     "outputs": []
    },
    {
     "cell_type": "code",
     "collapsed": true,
     "input": [
      "# Array of ones, zeros, or nothing\n",
      "np.ones(5)\n",
      "np.zeros(5)\n",
      "np.empty(5)\n",
      "\n",
      "np.ones((5,5))"
     ],
     "language": "python",
     "metadata": {},
     "outputs": []
    },
    {
     "cell_type": "code",
     "collapsed": true,
     "input": [
      "# Array of a sequence of numbers\n",
      "np.arange(10, 20, 1)\n",
      "np.linspace(10, 20, 30)"
     ],
     "language": "python",
     "metadata": {},
     "outputs": []
    },
    {
     "cell_type": "markdown",
     "metadata": {},
     "source": [
      "There are many other helpful functions for array creation, including np.random.rand and\n",
      "np.identity. Before trying to hack together a particular type of new array, check the docs\n",
      "to see if there's a simple function to do it for you."
     ]
    },
    {
     "cell_type": "markdown",
     "metadata": {},
     "source": [
      "### 2.2 Arrays are objects with methods and attributes\n",
      "\n",
      "While we will not teach object oriented programming in this bootcamp, it is helpful\n",
      "to know that arrays are objects in numpy. This means that they have attributes\n",
      "(characteristics) and methods (ways of operating on themselves)."
     ]
    },
    {
     "cell_type": "code",
     "collapsed": true,
     "input": [
      "# A 5x5 array of ones\n",
      "a = np.arange(1,13)\n",
      "print a"
     ],
     "language": "python",
     "metadata": {},
     "outputs": []
    },
    {
     "cell_type": "code",
     "collapsed": true,
     "input": [
      "# Some attributes\n",
      "print a.dtype\n",
      "print a.shape\n",
      "print a.size"
     ],
     "language": "python",
     "metadata": {},
     "outputs": []
    },
    {
     "cell_type": "code",
     "collapsed": true,
     "input": [
      "# Some methods\n",
      "print a.prod()\n",
      "print a.cumsum()\n",
      "print a.reshape((3,4))"
     ],
     "language": "python",
     "metadata": {},
     "outputs": []
    },
    {
     "cell_type": "markdown",
     "metadata": {},
     "source": [
      "### Exercise\n",
      "\n",
      "* Create a one dimensional array of 16 linearly spaced values ranging from 0 to 2.\n",
      "* Print the data type of the array.\n",
      "* Reshape this into a two dimensional 4 x 4 array.\n",
      "* Print the top half of the array (ie, the first two rows and all columns).\n",
      "  Hint: A 2D array is indexed like A[0:4, 0:4].\n",
      "\n",
      "_Bonus_: Make the one dimensional array full of logarithmically spaced values, and calculate the\n",
      "mean of each column of the array. Hint: Look at the arguments for the method A.mean()."
     ]
    },
    {
     "cell_type": "code",
     "collapsed": false,
     "input": [
      "# Try it here...\n",
      "a = np.linspace(0,2,16)\n",
      "print a.dtype\n",
      "b = a.reshape((4,4))\n",
      "print b\n",
      "print b[0:2,:]"
     ],
     "language": "python",
     "metadata": {},
     "outputs": []
    },
    {
     "cell_type": "markdown",
     "metadata": {},
     "source": [
      "### 2.3 Array elements are actually pointers, but can be copied if needed\n",
      "\n",
      "This is a source of one of the big 'gotchas' in numpy, which can case some of the hardest to find\n",
      "bugs. Arrays, and indexes for elements in arrays, actually point to data, they are not themselves a\n",
      "unique copy of data. For example..."
     ]
    },
    {
     "cell_type": "code",
     "collapsed": true,
     "input": [
      "# Be careful with pointers...\n",
      "A = np.arange(10)\n",
      "B = A\n",
      "\n",
      "B[0] = 777  # This is going to change both B and A\n",
      "\n",
      "print A\n",
      "print B"
     ],
     "language": "python",
     "metadata": {},
     "outputs": []
    },
    {
     "cell_type": "markdown",
     "metadata": {},
     "source": [
      "### Exercise\n",
      "\n",
      "Figure out how to make B an independent copy of A, so that when we change a value in B,\n",
      "A will stay the same. Hint: Look at the methods of A."
     ]
    },
    {
     "cell_type": "code",
     "collapsed": true,
     "input": [
      "# Try it here...\n",
      "B = np.copy(A)"
     ],
     "language": "python",
     "metadata": {},
     "outputs": []
    },
    {
     "cell_type": "markdown",
     "metadata": {},
     "source": [
      "## 3. Using Arrays"
     ]
    },
    {
     "cell_type": "markdown",
     "metadata": {},
     "source": [
      "### 3.1 Math on arrays\n",
      "\n",
      "Unlike Matlab (for example), all operations on arrays in numpy operate 'by default' elementwise."
     ]
    },
    {
     "cell_type": "code",
     "collapsed": true,
     "input": [
      "# Elementwise math with one array\n",
      "a = np.arange(5)\n",
      "print a + 1\n",
      "print a * 2\n",
      "print a ** 2"
     ],
     "language": "python",
     "metadata": {},
     "outputs": []
    },
    {
     "cell_type": "code",
     "collapsed": true,
     "input": [
      "# Elementwise math with two arrays\n",
      "a = np.arange(5)\n",
      "b = np.arange(5, 10)\n",
      "print a\n",
      "print b\n",
      "print a * b"
     ],
     "language": "python",
     "metadata": {},
     "outputs": []
    },
    {
     "cell_type": "code",
     "collapsed": true,
     "input": [
      "# Other array math\n",
      "a = np.arange(5)\n",
      "print np.sin(a)\n",
      "print np.exp(a)\n",
      "print np.log(a+1)"
     ],
     "language": "python",
     "metadata": {},
     "outputs": []
    },
    {
     "cell_type": "markdown",
     "metadata": {},
     "source": [
      "Many other helpful functions for operating elementwise on arrays are available - see\n",
      "http://docs.scipy.org/doc/numpy/reference/ufuncs.html#available-ufuncs"
     ]
    },
    {
     "cell_type": "markdown",
     "metadata": {},
     "source": [
      "For true linear algebra, use the relevant numpy functions."
     ]
    },
    {
     "cell_type": "code",
     "collapsed": true,
     "input": [
      "# Matrix multiplication with dot\n",
      "a = np.array([[1, 2], [3, 4]])\n",
      "b = np.array([[2, 3], [4, 5]])\n",
      "\n",
      "print a * b\n",
      "print np.dot(a, b)"
     ],
     "language": "python",
     "metadata": {},
     "outputs": []
    },
    {
     "cell_type": "markdown",
     "metadata": {},
     "source": [
      "### 3.2 Broadcasting and repeating\n",
      "\n",
      "If you try to perform an array operation on two differently sized arrays, numpy will try to do the\n",
      "smart thing by expanding the smaller array (this is called broadcasting)."
     ]
    },
    {
     "cell_type": "code",
     "collapsed": true,
     "input": [
      "# Broadcasting\n",
      "x = np.arange(4)\n",
      "z = np.ones((3,4))\n",
      "\n",
      "print x, '\\n'\n",
      "print z, '\\n'\n",
      "print x + z"
     ],
     "language": "python",
     "metadata": {},
     "outputs": []
    },
    {
     "cell_type": "code",
     "collapsed": true,
     "input": [
      "# Broadcasting\n",
      "x = np.arange(3).reshape(3,1)\n",
      "z = np.ones((3,4))\n",
      "\n",
      "print x, '\\n'\n",
      "print z, '\\n'\n",
      "print x + z"
     ],
     "language": "python",
     "metadata": {},
     "outputs": []
    },
    {
     "cell_type": "markdown",
     "metadata": {},
     "source": [
      "Sometimes for clarity it can be helpful to actually expand the smaller array to 'full size' before\n",
      "performing operations. Note, however, that if the arrays are very large, this could use up a lot of\n",
      "computer resources."
     ]
    },
    {
     "cell_type": "code",
     "collapsed": true,
     "input": [
      "# Repeating\n",
      "x = np.arange(3).reshape(3,1)\n",
      "xbig = np.repeat(x2, 4, axis=1)\n",
      "\n",
      "print x\n",
      "print xbig"
     ],
     "language": "python",
     "metadata": {},
     "outputs": []
    },
    {
     "cell_type": "markdown",
     "metadata": {},
     "source": [
      "### 3.3 Logic and boolean indexing\n",
      "\n",
      "A common operation is to check which values of an array meet a logical test, and then to use\n",
      "the results of that logical test as an index."
     ]
    },
    {
     "cell_type": "code",
     "collapsed": true,
     "input": [
      "# Make a few arrays\n",
      "a = np.arange(5, 15)\n",
      "b = np.array([2, 2, 2, 8, 3, 4, 7, 4, 4, 2])\n",
      "print a\n",
      "print b"
     ],
     "language": "python",
     "metadata": {},
     "outputs": []
    },
    {
     "cell_type": "code",
     "collapsed": true,
     "input": [
      "# Boolean indexing\n",
      "a > 10\n",
      "a[a > 10]\n",
      "a[b == 2]"
     ],
     "language": "python",
     "metadata": {},
     "outputs": []
    },
    {
     "cell_type": "code",
     "collapsed": true,
     "input": [
      "# Array equality\n",
      "a == b\n",
      "np.any(a == b)\n",
      "np.all(a == b)"
     ],
     "language": "python",
     "metadata": {},
     "outputs": []
    },
    {
     "cell_type": "markdown",
     "metadata": {},
     "source": [
      "### Exercise\n",
      "\n",
      "* Create a one dimensional array 'a' containing the values 3, 5, 7, 9, 11\n",
      "* Calculate the cosine of all elements of this array and store these as 'b'.\n",
      "* Extract only the cosine values > 0, and store these as 'c'.\n",
      "* Convert 'c' into a column array. Hint: Use the reshape method, and you'll need to know the size of c.\n",
      "* Repeat this column three times to make a matrix 'd'. Hint: look at the axis argument to np.repeat"
     ]
    },
    {
     "cell_type": "code",
     "collapsed": true,
     "input": [
      "# Try it here...\n",
      "a = np.arange(3, 13, 2)\n",
      "b = np.cos(a)\n",
      "c = b[b > 0]\n",
      "c = c.reshape((3,1))\n",
      "d = np.repeat(c, 3, axis=1)"
     ],
     "language": "python",
     "metadata": {},
     "outputs": []
    },
    {
     "cell_type": "markdown",
     "metadata": {},
     "source": [
      "### 3.4 Complex data types \n",
      "\n",
      "An important attribute of an array is the data type, or dtype. Each array must contain\n",
      "elements that are all the same data type, unlike lists. This dtype can be declared\n",
      "explicitly when an array is created. Data types may be complex, however, as in the\n",
      "case of a record array (recarray)."
     ]
    },
    {
     "cell_type": "code",
     "collapsed": true,
     "input": [
      "# dtypes can be declared\n",
      "a = np.arange(12)\n",
      "a.dtype\n",
      "\n",
      "a = np.arange(12, dtype=float)\n",
      "a.dtype"
     ],
     "language": "python",
     "metadata": {},
     "outputs": []
    },
    {
     "cell_type": "code",
     "collapsed": true,
     "input": [
      "# Look at stations.csv\n",
      "!head stations.csv"
     ],
     "language": "python",
     "metadata": {},
     "outputs": []
    },
    {
     "cell_type": "code",
     "collapsed": false,
     "input": [
      "# Import and use csv2rec\n",
      "from matplotlib.mlab import csv2rec\n",
      "A = csv2rec('stations.csv')\n",
      "A"
     ],
     "language": "python",
     "metadata": {},
     "outputs": []
    },
    {
     "cell_type": "code",
     "collapsed": true,
     "input": [
      "# Index recarray\n",
      "print A[0]\n",
      "print A['name']"
     ],
     "language": "python",
     "metadata": {},
     "outputs": []
    },
    {
     "cell_type": "markdown",
     "metadata": {},
     "source": [
      "### Exercise\n",
      "\n",
      "Using the recarray A declared above and the principles of boolean indexing,\n",
      "\n",
      "* Print only the records that have a value > 4.\n",
      "* Print the names of stations that have a value > 4.\n",
      "\n",
      "_Bonus_: Print the names of all stations with a value > 4 and a lat > 29."
     ]
    },
    {
     "cell_type": "code",
     "collapsed": false,
     "input": [
      "# Try it here...\n",
      "A[A['value']>4]\n",
      "A['name'][(A['value']>4)]\n",
      "A['name'][(A['value']>4) & (A['lat']>29)]"
     ],
     "language": "python",
     "metadata": {},
     "outputs": []
    }
   ],
   "metadata": {}
  }
 ]
}