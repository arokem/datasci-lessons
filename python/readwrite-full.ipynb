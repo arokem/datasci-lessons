{
 "metadata": {
  "name": "readwrite-full"
 }, 
 "nbformat": 2, 
 "worksheets": [
  {
   "cells": [
    {
     "cell_type": "markdown", 
     "source": [
      "# Reading and Writing Files using Python", 
      "", 
      "__Software Carpentry Bootcamp  ", 
      "Scripps Research Institute, La Jolla, CA   ", 
      "November 2012__  ", 
      "", 
      "Prepared by: Justin Kitzes  "
     ]
    }, 
    {
     "cell_type": "markdown", 
     "source": [
      "## 1. Introduction", 
      "", 
      "The core Python libraries, along with external packages such as `numpy`, `matplotlib`, `pandas`, and others,", 
      "provide both low-level and high-level methods for extracting data from files, processing this data, and", 
      "saving results back to disk.", 
      "", 
      "In this lesson, we will focus on reading and writing csv files (comma-separated", 
      "values, which are often used to hold tabular data that look like a spreadsheet) and relatively", 
      "unstructured text files (such as data files you might receive from a colleague that are in a", 
      "\"unique\" format).", 
      "", 
      "We will work through three useful methods of working with csv and text files in this lesson:", 
      "", 
      "1. A high-level library for dealing with tabular data (such as csv's) that contain only one data type", 
      "1. A high-level library for dealing with tabular data that contain multiple data types (such as a column", 
      "for a site name, a string, and a column for the temperature, a float)", 
      "1. A low-level method for reading data from any text file, line by line.", 
      "", 
      "In general, you will want to use the easy, high-level approaches whenever possible (they will save you time", 
      "and probably errors) and switch over to the low-level methods when your data have an unusual structure", 
      "that the high-level readers cannot deal with easily."
     ]
    }, 
    {
     "cell_type": "markdown", 
     "source": [
      "## 2. Tables with one data type", 
      "", 
      "The simplest kind of data file that you might encounter is a text file containing a single data type,", 
      "such as a bunch of numbers. \"Rows\" are usually found on successive lines, while \"columns\" are separated", 
      "by a delimiter, such as a comma or a tab.", 
      "", 
      "These types of data files can be dealt with very easily using the `numpy` functions `loadtxt` and `savetxt`."
     ]
    }, 
    {
     "cell_type": "code", 
     "collapsed": false, 
     "input": [
      "# Load numpy once again, and the plotting library for good measure", 
      "import numpy as np", 
      "%pylab inline"
     ], 
     "language": "python", 
     "outputs": [
      {
       "output_type": "stream", 
       "stream": "stdout", 
       "text": [
        "", 
        "Welcome to pylab, a matplotlib-based Python environment [backend: module://IPython.zmq.pylab.backend_inline].", 
        "For more information, type 'help(pylab)'."
       ]
      }
     ], 
     "prompt_number": 18
    }, 
    {
     "cell_type": "code", 
     "collapsed": false, 
     "input": [
      "# We have a data table called data_pops.csv showing the results of the logistic model", 
      "!head data_pops.csv"
     ], 
     "language": "python", 
     "outputs": [
      {
       "output_type": "stream", 
       "stream": "stdout", 
       "text": [
        "10,15,23,34,47,62,76,87,94,97,99,100,100,100,10", 
        "10,15,10,15,23,34,47,62,10,15,10,15,10,15,23", 
        "10,15,23,34,10,10,15,23,34,10,15,23,34,10,10", 
        "10,15,23,34,47,10,15,23,10,15,23,34,47,62,76", 
        "10,10,15,23,34,47,62,76,10,15,23,34,47,62,76", 
        "10,10,15,23,34,10,15,10,15,23,34,47,62,76,87", 
        "10,15,23,34,10,15,23,10,15,23,34,47,62,76,87", 
        "10,15,23,34,47,62,76,87,94,97,99,100,100,100,100", 
        "10,15,23,34,47,62,76,87,94,97,99,100,100,100,100", 
        "10,15,23,34,47,62,76,87,94,97,99,10,10,15,23"
       ]
      }
     ], 
     "prompt_number": 30
    }, 
    {
     "cell_type": "code", 
     "collapsed": false, 
     "input": [
      "# Load this data file using numpy loadtxt", 
      "# This will create a 2D numpy array. Each col is a time step, and each row is a population", 
      "tab = np.loadtxt('data_pops.csv', dtype=int, delimiter=',')"
     ], 
     "language": "python", 
     "outputs": [], 
     "prompt_number": 6
    }, 
    {
     "cell_type": "code", 
     "collapsed": false, 
     "input": [
      "# Look at the table", 
      "print type(tab)", 
      "print tab.shape", 
      "print tab[0:10,:]"
     ], 
     "language": "python", 
     "outputs": [
      {
       "output_type": "stream", 
       "stream": "stdout", 
       "text": [
        "<type 'numpy.ndarray'>", 
        "(50, 15)", 
        "[[ 10  15  23  34  47  62  76  87  94  97  99 100 100 100  10]", 
        " [ 10  15  10  15  23  34  47  62  10  15  10  15  10  15  23]", 
        " [ 10  15  23  34  10  10  15  23  34  10  15  23  34  10  10]", 
        " [ 10  15  23  34  47  10  15  23  10  15  23  34  47  62  76]", 
        " [ 10  10  15  23  34  47  62  76  10  15  23  34  47  62  76]", 
        " [ 10  10  15  23  34  10  15  10  15  23  34  47  62  76  87]", 
        " [ 10  15  23  34  10  15  23  10  15  23  34  47  62  76  87]", 
        " [ 10  15  23  34  47  62  76  87  94  97  99 100 100 100 100]", 
        " [ 10  15  23  34  47  62  76  87  94  97  99 100 100 100 100]", 
        " [ 10  15  23  34  47  62  76  87  94  97  99  10  10  15  23]]"
       ]
      }
     ], 
     "prompt_number": 32
    }, 
    {
     "cell_type": "code", 
     "collapsed": false, 
     "input": [
      "# This is just a 2D array, and we know how to work with those", 
      "s = np.sum(tab, axis=0)", 
      "print s", 
      "plot(s)", 
      "", 
      "print tab.max(axis=1)"
     ], 
     "language": "python", 
     "outputs": [
      {
       "output_type": "stream", 
       "stream": "stdout", 
       "text": [
        "[ 500  720 1050 1534 1996 2440 2864 3346 3260 3324 3288 3150 3223 3177 3242]", 
        "[100  62  34  76  76  87  87 100 100  99  62 100  99 100 100  94 100  62", 
        " 100 100 100  99 100  94 100 100  99  97  76 100  99  87  97 100 100  97", 
        "  47  87 100  94  99  97 100  97  99  87 100 100  76 100]"
       ]
      }, 
      {
       "output_type": "stream", 
       "stream": "stdout", 
       "text": [
        ""
       ]
      }, 
      {
       "output_type": "display_data", 
       "png": "[encoded data removed]"
      }
     ], 
     "prompt_number": 34
    }, 
    {
     "cell_type": "code", 
     "collapsed": false, 
     "input": [
      "# Once we have any new array (a portion of the original, or a new result), we can", 
      "# save it back to a file using savetxt.", 
      "tabfirst = tab[0:10, 0:5]", 
      "np.savetxt('data_pops_first.csv', tabfirst, fmt='%i', delimiter=',')"
     ], 
     "language": "python", 
     "outputs": [], 
     "prompt_number": 41
    }, 
    {
     "cell_type": "code", 
     "collapsed": false, 
     "input": [
      "# Check it out, it worked!", 
      "!cat data_pops_first.csv"
     ], 
     "language": "python", 
     "outputs": [
      {
       "output_type": "stream", 
       "stream": "stdout", 
       "text": [
        "10,15,23,34,47", 
        "10,15,10,15,23", 
        "10,15,23,34,10", 
        "10,15,23,34,47", 
        "10,10,15,23,34", 
        "10,10,15,23,34", 
        "10,15,23,34,10", 
        "10,15,23,34,47", 
        "10,15,23,34,47", 
        "10,15,23,34,47"
       ]
      }
     ], 
     "prompt_number": 29
    }, 
    {
     "cell_type": "markdown", 
     "source": [
      "### EXERCISE 1 - Saving numpy arrays", 
      "", 
      "Let's save a few data files containing the results of our analysis of the populations.", 
      "", 
      "1. Calculate the mean number of individuals alive across all populations at each time step. HINT: The", 
      "method `mean` will do this easily - look for the `axis` keyword argument. Store the result as the", 
      "variable `tabmean`. What is the type of this variable?", 
      "1. Save the table `tabmean` as a file called `data_pops_meant.txt`. Make each of the columns separated", 
      "by a space instead of a comma.", 
      "1. Consider just the second and fifth columns. Calculate the mean population size for only those", 
      "populations in each of these columns that have more than 10 individuals (does this question sound", 
      "familiar?). Store these two values in a two element numpy array, and save it to the file", 
      "`data_pops_meanspecial.csv`. HINT: Save each column to a new array, use a boolean index to get just", 
      "the elements of that new array that are greater than 10, and take the mean."
     ]
    }, 
    {
     "cell_type": "code", 
     "collapsed": false, 
     "input": [
      "tabmean = np.mean(tab, axis=0)", 
      "print type(tabmean)", 
      "", 
      "np.savetxt('data_pops_meant.txt', tabmean, fmt='%i', delimiter=' ')", 
      "", 
      "col2 = tab[:,1]  # Remember, second col has index 1", 
      "col2mean = np.mean(col2[col2 > 10])", 
      "", 
      "col5 = tab[:,4]", 
      "col5mean = np.mean(col5[col5 > 10])", 
      "", 
      "meanspecial = np.array([col2mean, col5mean])", 
      "print meanspecial", 
      "", 
      "np.savetxt('data_pops_meanspecial.csv', meanspecial, fmt='%i', delimiter=',')"
     ], 
     "language": "python", 
     "outputs": [
      {
       "output_type": "stream", 
       "stream": "stdout", 
       "text": [
        "<type 'numpy.ndarray'>", 
        "[ 15.          43.24444444]"
       ]
      }
     ], 
     "prompt_number": 44
    }, 
    {
     "cell_type": "code", 
     "collapsed": true, 
     "input": [], 
     "language": "python", 
     "outputs": []
    }
   ]
  }
 ]
}