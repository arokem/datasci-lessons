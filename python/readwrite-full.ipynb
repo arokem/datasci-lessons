{
 "metadata": {
  "name": "readwrite-full"
 }, 
 "nbformat": 2, 
 "worksheets": [
  {
   "cells": [
    {
     "cell_type": "markdown", 
     "source": [
      "# Reading and Writing Files using Python", 
      "", 
      "__Software Carpentry Bootcamp  ", 
      "Scripps Research Institute, La Jolla, CA   ", 
      "November 2012__  ", 
      "", 
      "Prepared by: Justin Kitzes  "
     ]
    }, 
    {
     "cell_type": "markdown", 
     "source": [
      "## 1. Introduction", 
      "", 
      "The core Python libraries, along with external packages such as `numpy`, `matplotlib`, `pandas`, and others,", 
      "provide both low-level and high-level methods for extracting data from files, processing this data, and", 
      "saving results back to disk.", 
      "", 
      "In this lesson, we will read text-based data files in two ways. First, we will use Python's low level", 
      "file reader and writer to examine the contents of a relatively unstructured text file, perform some analysis,", 
      "and write our results back out to another text file. Second, we will use high-level helper functions", 
      "from `matplotlib` to easily read, modify, and write back out a csv file (csv stands for comma-separated", 
      "values, and is the kind of data that you might have in a spreadsheet).", 
      "", 
      "In general, you will want to use easy, high-level approaches whenever possible (they will save you time", 
      "and probably errors) and switch over to the low-level methods when your data have an unusual structure", 
      "that the high-level readers cannot deal with easily. There are other high-level file handlers in `numpy`,", 
      "such as `loadtxt` and `savetxt`, and `pandas`, such as `from_csv` and `to_csv`, that are also useful,", 
      "and we encourage you to look into them."
     ]
    }, 
    {
     "cell_type": "markdown", 
     "source": [
      "## 2. Reading and writing text files line-by-line", 
      "", 
      "The most basic way to get data into Python is to open a text file and read it, line by line, and examine", 
      "each line in turn to determine what to do with it (ie, save it, skip it, extract some information, etc.).", 
      "", 
      "This method will work on any type of file, including tables in csv format. However, this method really becomes", 
      "useful when you find yourself with a \"unique\" type of data record, such as the one in the sample file", 
      "shown below."
     ]
    }, 
    {
     "cell_type": "code", 
     "collapsed": false, 
     "input": [
      "# Load numpy once again, and the plotting library for good measure", 
      "import numpy as np", 
      "%pylab inline"
     ], 
     "language": "python", 
     "outputs": [
      {
       "output_type": "stream", 
       "stream": "stdout", 
       "text": [
        "", 
        "Welcome to pylab, a matplotlib-based Python environment [backend: module://IPython.zmq.pylab.backend_inline].", 
        "For more information, type 'help(pylab)'."
       ]
      }
     ], 
     "prompt_number": 136
    }, 
    {
     "cell_type": "code", 
     "collapsed": false, 
     "input": [
      "# We have a data file with records of animal sightings in it", 
      "!cat sightings_recs_sm.txt"
     ], 
     "language": "python", 
     "outputs": [
      {
       "output_type": "stream", 
       "stream": "stdout", 
       "text": [
        "0 {", 
        "Date: 2011-04-22", 
        "Time: 15:16", 
        "Animal: Wolverine", 
        "Count: 5", 
        "}", 
        "", 
        "1 {", 
        "Date: 2011-04-22", 
        "Time: 17:28", 
        "Animal: Owl", 
        "Count: 4", 
        "}", 
        "", 
        "2 {", 
        "Date: 2011-04-22", 
        "Time: 01:06", 
        "Animal: Owl", 
        "Count: 27", 
        "}", 
        ""
       ]
      }
     ], 
     "prompt_number": 137
    }, 
    {
     "cell_type": "code", 
     "collapsed": false, 
     "input": [
      "# Let's read the file line by line, and print each line back out (watch for newline characters)", 
      "f = open('sightings_recs_sm.txt', 'r')", 
      "", 
      "for line in f:", 
      "    print repr(line)", 
      "    ", 
      "f.close()"
     ], 
     "language": "python", 
     "outputs": [
      {
       "output_type": "stream", 
       "stream": "stdout", 
       "text": [
        "'0 {\\n'", 
        "'Date: 2011-04-22\\n'", 
        "'Time: 15:16\\n'", 
        "'Animal: Wolverine\\n'", 
        "'Count: 5\\n'", 
        "'}\\n'", 
        "'\\n'", 
        "'1 {\\n'", 
        "'Date: 2011-04-22\\n'", 
        "'Time: 17:28\\n'", 
        "'Animal: Owl\\n'", 
        "'Count: 4\\n'", 
        "'}\\n'", 
        "'\\n'", 
        "'2 {\\n'", 
        "'Date: 2011-04-22\\n'", 
        "'Time: 01:06\\n'", 
        "'Animal: Owl\\n'", 
        "'Count: 27\\n'", 
        "'}\\n'", 
        "'\\n'"
       ]
      }
     ], 
     "prompt_number": 138
    }, 
    {
     "cell_type": "code", 
     "collapsed": false, 
     "input": [
      "# Let's only print out the lines that have counts", 
      "f = open('sightings_recs_sm.txt', 'r')", 
      "", 
      "for line in f:", 
      "    if line[0:5] == 'Count':", 
      "        print repr(line)", 
      "        ", 
      "f.close()"
     ], 
     "language": "python", 
     "outputs": [
      {
       "output_type": "stream", 
       "stream": "stdout", 
       "text": [
        "'Count: 5\\n'", 
        "'Count: 4\\n'", 
        "'Count: 27\\n'"
       ]
      }
     ], 
     "prompt_number": 139
    }, 
    {
     "cell_type": "code", 
     "collapsed": false, 
     "input": [
      "# Instead of printing the count, let's get the count and add it to a total", 
      "#a = 'Count: 5'", 
      "#print a.split(' ')[1]", 
      "", 
      "f = open('sightings_recs_sm.txt', 'r')", 
      "", 
      "total = 0", 
      "for line in f:", 
      "    if line[0:5] == 'Count':", 
      "        thiscount = int(line.split(' ')[1])", 
      "        total = total + thiscount", 
      "print total", 
      "", 
      "f.close()"
     ], 
     "language": "python", 
     "outputs": [
      {
       "output_type": "stream", 
       "stream": "stdout", 
       "text": [
        "36"
       ]
      }
     ], 
     "prompt_number": 140
    }, 
    {
     "cell_type": "code", 
     "collapsed": true, 
     "input": [
      "# Finally, let's write out our answer to a new file", 
      "g = open('sightings_recs_result.txt', 'w')", 
      "g.write('Total animals seen: ' + str(total))", 
      "g.close()"
     ], 
     "language": "python", 
     "outputs": [], 
     "prompt_number": 141
    }, 
    {
     "cell_type": "code", 
     "collapsed": false, 
     "input": [
      "!cat sightings_recs_result.txt"
     ], 
     "language": "python", 
     "outputs": [
      {
       "output_type": "stream", 
       "stream": "stdout", 
       "text": [
        "Total animals seen: 36"
       ]
      }
     ], 
     "prompt_number": 142
    }, 
    {
     "cell_type": "markdown", 
     "source": [
      "### EXERCISE 1 - Reading and writing line by line", 
      "", 
      "1. Write code that will figure out the number of records in which the animal Owl appears (not the total", 
      "count of owls, just the number of times the word 'Owl' appears after the word 'Animal:' on a line).", 
      "1. Write a results file called 'sightings_recs_owls.txt' that has, on the first line, the string", 
      "'Counted by [your name]' and, on the second line, the string 'Total owl records:' followed by the number", 
      "of records mentioing Owl. HINT: To write a new line in a file, use the special character '\\n'.", 
      "2. Run your code on the much larger file 'sightings_recs_lg.txt'. How many records are there for owls?", 
      "", 
      "__Bonus__", 
      "", 
      "1. Modify your code to calculate the total number of owls seen in this data file (the sum of the counts within", 
      "all records that have Owl as the animal). HINT: Since the animal name comes before the count, one way to", 
      "do this is to create a new variable called `animal`, and update its value each time the for loop encounters", 
      "a line that starts with 'Animal:'. Then, when the 'Count:' line is encountered, you should only add the count to", 
      "your running total if, the current value of the variable `animal` is 'Owl'.", 
      "2. Run your code on the much larger file 'sightings_recs_lg.txt'. How many total owls were seen?"
     ]
    }, 
    {
     "cell_type": "markdown", 
     "source": [
      "## 3. Reading and writing tabular data with helper functions", 
      "", 
      "The process of reading and writing files becomes MUCH easier if your data is nicely structured, such as if", 
      "it is formatted as a csv file (like a spreadsheet). In this case, there are a number of high-level helper", 
      "functions that will help you to read, manipulate, and write this data. We'll focus on a set of helper", 
      "functions found in `matplotlib.mlab`.", 
      "", 
      "There are lots of functions in `mlab`, but the ones that we want are listed under \"record array helper", 
      "functions\" on this page: http://matplotlib.org/api/mlab_api.html. The most important ones are", 
      "", 
      "* rec2csv() - store record array in CSV file", 
      "* csv2rec() - import record array from CSV file with type inspection", 
      "* rec_append_fields() - adds field(s)/array(s) to record array", 
      "* rec_drop_fields() - drop fields from record array"
     ]
    }, 
    {
     "cell_type": "code", 
     "collapsed": true, 
     "input": [
      "# Import matplotlib.mlab", 
      "import matplotlib.mlab as ml"
     ], 
     "language": "python", 
     "outputs": [], 
     "prompt_number": 143
    }, 
    {
     "cell_type": "code", 
     "collapsed": false, 
     "input": [
      "# Our field tech was much nicer this time, and gave us a csv with the sightings in it", 
      "!cat sightings_tab_sm.csv"
     ], 
     "language": "python", 
     "outputs": [
      {
       "output_type": "stream", 
       "stream": "stdout", 
       "text": [
        "Date,Time,Animal,Count", 
        "2011-04-22,16:20,Owl,14", 
        "2011-04-22,10:08,Fox,4", 
        "2011-04-23,06:29,Muskox,31", 
        "2011-04-23,21:11,Owl,21", 
        "2011-04-23,07:41,Muskox,21"
       ]
      }
     ], 
     "prompt_number": 144
    }, 
    {
     "cell_type": "code", 
     "collapsed": false, 
     "input": [
      "# We can load this csv into a numpy recarray in just one step", 
      "tab = ml.csv2rec('sightings_tab_sm.csv')", 
      "tab"
     ], 
     "language": "python", 
     "outputs": [
      {
       "output_type": "pyout", 
       "prompt_number": 145, 
       "text": [
        "rec.array([ (datetime.date(2011, 4, 22), datetime.datetime(2012, 11, 12, 16, 20), 'Owl', 14),", 
        "       (datetime.date(2011, 4, 22), datetime.datetime(2012, 11, 12, 10, 8), 'Fox', 4),", 
        "       (datetime.date(2011, 4, 23), datetime.datetime(2012, 11, 12, 6, 29), 'Muskox', 31),", 
        "       (datetime.date(2011, 4, 23), datetime.datetime(2012, 11, 12, 21, 11), 'Owl', 21),", 
        "       (datetime.date(2011, 4, 23), datetime.datetime(2012, 11, 12, 7, 41), 'Muskox', 21)], ", 
        "      dtype=[('date', '|O8'), ('time', '|O8'), ('animal', '|S6'), ('count', '<i8')])"
       ]
      }
     ], 
     "prompt_number": 145
    }, 
    {
     "cell_type": "code", 
     "collapsed": false, 
     "input": [
      "# A recarray is a special kind of numpy array", 
      "# It is one dimensional, but each element is a record that has many pieces of data in it", 
      "print type(tab)", 
      "print tab.dtype  # dtype isn't just an int, float, or str - it's complex"
     ], 
     "language": "python", 
     "outputs": [
      {
       "output_type": "stream", 
       "stream": "stdout", 
       "text": [
        "<class 'numpy.core.records.recarray'>", 
        "[('date', '|O8'), ('time', '|O8'), ('animal', '|S6'), ('count', '<i8')]"
       ]
      }
     ], 
     "prompt_number": 146
    }, 
    {
     "cell_type": "code", 
     "collapsed": false, 
     "input": [
      "# We can access \"rows\" and \"columns\" in a recarray easily", 
      "# \"Rows\" are actually the indexes of the records", 
      "# \"Columns\" can be accessed by the name of the field", 
      "print tab[0]", 
      "print tab['animal']", 
      "print tab[0]['animal']"
     ], 
     "language": "python", 
     "outputs": [
      {
       "output_type": "stream", 
       "stream": "stdout", 
       "text": [
        "(datetime.date(2011, 4, 22), datetime.datetime(2012, 11, 12, 16, 20), 'Owl', 14)", 
        "['Owl' 'Fox' 'Muskox' 'Owl' 'Muskox']", 
        "Owl"
       ]
      }
     ], 
     "prompt_number": 166
    }, 
    {
     "cell_type": "code", 
     "collapsed": false, 
     "input": [
      "# We can access values in the records by looping over each record individually", 
      "for record in tab:", 
      "    if record['animal'] == 'Owl':", 
      "        print 'Count: ', record['count']"
     ], 
     "language": "python", 
     "outputs": [
      {
       "output_type": "stream", 
       "stream": "stdout", 
       "text": [
        "Count:  14", 
        "Count:  21"
       ]
      }
     ], 
     "prompt_number": 148
    }, 
    {
     "cell_type": "code", 
     "collapsed": false, 
     "input": [
      "# Or by using boolean indexing", 
      "isowl = (tab['animal'] == 'Owl')", 
      "print isowl", 
      "print tab['count']", 
      "print tab['count'][isowl]"
     ], 
     "language": "python", 
     "outputs": [
      {
       "output_type": "stream", 
       "stream": "stdout", 
       "text": [
        "[ True False False  True False]", 
        "[14  4 31 21 21]", 
        "[14 21]"
       ]
      }
     ], 
     "prompt_number": 167
    }, 
    {
     "cell_type": "code", 
     "collapsed": false, 
     "input": [
      "# Let's make a new table (also a recarray) that drops the date and time cols", 
      "# Also, let's add a new col called 'group' that is 1 if there were more than 4 animals counted", 
      "tabnew = tab.copy()", 
      "tabnew = ml.rec_drop_fields(tabnew, ['date','time'])", 
      "", 
      "group_list = []", 
      "for record in tab:", 
      "    if record['count'] > 4:", 
      "        group_list.append(1)", 
      "    else:", 
      "        group_list.append(0)", 
      "", 
      "tabnew = ml.rec_append_fields(tabnew, 'group', group_list)", 
      "", 
      "print repr(tabnew)"
     ], 
     "language": "python", 
     "outputs": [
      {
       "output_type": "stream", 
       "stream": "stdout", 
       "text": [
        "rec.array([('Owl', 14, 1), ('Fox', 4, 0), ('Muskox', 31, 1), ('Owl', 21, 1),", 
        "       ('Muskox', 21, 1)], ", 
        "      dtype=[('animal', '|S6'), ('count', '<i8'), ('group', '<i8')])"
       ]
      }
     ], 
     "prompt_number": 172
    }, 
    {
     "cell_type": "code", 
     "collapsed": true, 
     "input": [
      "# Finally, let's save our new recarray as a csv file", 
      "ml.rec2csv(tabnew, 'sightings_tab_results.csv')"
     ], 
     "language": "python", 
     "outputs": [], 
     "prompt_number": 169
    }, 
    {
     "cell_type": "code", 
     "collapsed": false, 
     "input": [
      "# It worked!", 
      "!cat sightings_tab_results.csv"
     ], 
     "language": "python", 
     "outputs": [
      {
       "output_type": "stream", 
       "stream": "stdout", 
       "text": [
        "animal,count,group", 
        "", 
        "Owl,14,1", 
        "", 
        "Fox,4,0", 
        "", 
        "Muskox,31,1", 
        "", 
        "Owl,21,1", 
        "", 
        "Muskox,21,1", 
        ""
       ]
      }
     ], 
     "prompt_number": 171
    }, 
    {
     "cell_type": "markdown", 
     "source": [
      "### EXERCISE 2 - Reading and writing csv's to/from recarray's", 
      "", 
      "1. Create a variable called `focusanimal` that is equal to Owl. Write code that reads a csv file of", 
      "sightings, loops through the records, and counts the mean number of Owls seen per record. HINT: You'll want", 
      "to use two counter variables, `totalrecs` and `totalcount`, to track the number of records mentioning Owl and", 
      "the total number of owls seen. Print out the answer for the file `sightings_tab_sm.csv` and make sure", 
      "that it's correct.", 
      "1. Starting with the file `sightings_tab_sm.csv`, write code that adds a column called 'taxa' that contains", 
      "the word 'bird' if the animal is an Owl or a Ptarmigan (the two birds in this data set), and the word", 
      "'mammal' otherwise. Save this csv file.", 
      "", 
      "__Bonus__", 
      "", 
      "1. Repeat task #1 above, but using boolean indexing instead of a for loop."
     ]
    }
   ]
  }
 ]
}